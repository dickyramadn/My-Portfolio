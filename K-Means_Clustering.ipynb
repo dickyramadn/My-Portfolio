{
 "cells": [
  {
   "cell_type": "code",
   "execution_count": 1,
   "id": "b9e7fffd",
   "metadata": {},
   "outputs": [],
   "source": [
    "# import library\n",
    "import numpy as np\n",
    "import pandas as pd\n",
    "import matplotlib.pyplot as plt\n",
    "import seaborn as sns\n",
    "import kneed\n",
    "from kneed import KneeLocator\n",
    "import sklearn\n",
    "from sklearn.preprocessing import StandardScaler, LabelEncoder, MinMaxScaler\n",
    "from sklearn.cluster import KMeans\n",
    "from sklearn.metrics import silhouette_score, adjusted_rand_score\n",
    "from sklearn.decomposition import PCA\n",
    "from sklearn.pipeline import Pipeline"
   ]
  },
  {
   "cell_type": "code",
   "execution_count": 2,
   "id": "2644aa6d",
   "metadata": {},
   "outputs": [
    {
     "name": "stdout",
     "output_type": "stream",
     "text": [
      "<class 'pandas.core.frame.DataFrame'>\n",
      "RangeIndex: 14 entries, 0 to 13\n",
      "Data columns (total 4 columns):\n",
      " #   Column                 Non-Null Count  Dtype \n",
      "---  ------                 --------------  ----- \n",
      " 0   Kecamatan Subdistrict  14 non-null     object\n",
      " 1   Tunggal                14 non-null     int64 \n",
      " 2   Ganda                  14 non-null     int64 \n",
      " 3   Multi                  14 non-null     int64 \n",
      "dtypes: int64(3), object(1)\n",
      "memory usage: 580.0+ bytes\n"
     ]
    }
   ],
   "source": [
    "# input data\n",
    "df = pd.read_csv('E:\\PKL\\Penyandang Disabilitas di Kota Yogyakarta 2022.csv',sep=\",\", header=0)\n",
    "df.info()"
   ]
  },
  {
   "cell_type": "code",
   "execution_count": 3,
   "id": "735889d1",
   "metadata": {
    "scrolled": false
   },
   "outputs": [
    {
     "name": "stdout",
     "output_type": "stream",
     "text": [
      "<class 'pandas.core.frame.DataFrame'>\n",
      "RangeIndex: 14 entries, 0 to 13\n",
      "Data columns (total 3 columns):\n",
      " #   Column   Non-Null Count  Dtype\n",
      "---  ------   --------------  -----\n",
      " 0   Tunggal  14 non-null     int64\n",
      " 1   Ganda    14 non-null     int64\n",
      " 2   Multi    14 non-null     int64\n",
      "dtypes: int64(3)\n",
      "memory usage: 468.0 bytes\n"
     ]
    }
   ],
   "source": [
    "# ubah ke data perhitungan\n",
    "data = df.drop('Kecamatan Subdistrict', axis=1)\n",
    "data.info()"
   ]
  },
  {
   "cell_type": "code",
   "execution_count": 4,
   "id": "bba9165a",
   "metadata": {},
   "outputs": [
    {
     "data": {
      "text/plain": [
       "array([[-0.13736557, -0.1747675 , -0.1747675 ],\n",
       "       [-1.24813201, -1.03112822, -1.03112822],\n",
       "       [-0.86682413, -0.41944199, -0.41944199],\n",
       "       [ 1.58680919,  2.02730295,  2.02730295],\n",
       "       [ 0.674986  , -0.1747675 , -0.1747675 ],\n",
       "       [ 0.31025672,  0.43691874,  0.43691874],\n",
       "       [-0.33630881, -0.29710474, -0.29710474],\n",
       "       [-0.81708832, -0.78645373, -0.78645373],\n",
       "       [-1.41391804, -1.15346547, -1.15346547],\n",
       "       [-0.7507739 , -0.41944199, -0.41944199],\n",
       "       [ 1.81890964,  2.02730295,  2.02730295],\n",
       "       [-0.46893764, -1.15346547, -1.15346547],\n",
       "       [ 1.25523712,  0.31458149,  0.31458149],\n",
       "       [ 0.39314974,  0.80393048,  0.80393048]])"
      ]
     },
     "execution_count": 4,
     "metadata": {},
     "output_type": "execute_result"
    }
   ],
   "source": [
    "# standarisasi\n",
    "scaler = StandardScaler()\n",
    "scaled_data = scaler.fit_transform(data)\n",
    "scaled_data"
   ]
  },
  {
   "cell_type": "code",
   "execution_count": 5,
   "id": "2ab4fdd2",
   "metadata": {},
   "outputs": [
    {
     "data": {
      "image/png": "[encoded data removed]",
      "text/plain": [
       "<Figure size 640x480 with 1 Axes>"
      ]
     },
     "metadata": {},
     "output_type": "display_data"
    }
   ],
   "source": [
    "# memilih jumlah cluster yang sesuai menggunakan metode siku\n",
    "# model building\n",
    "kmeans_kwargs = {\n",
    "    \"init\": \"random\",\n",
    "    \"n_init\": 'auto',\n",
    "    \"max_iter\": 300,\n",
    "    \"random_state\": 42,}\n",
    "# metode siku\n",
    "sse_list = [] # membuat variabel untuk menyimpan nilai SSE\n",
    "for k in range(1, 11):\n",
    "    kmeans = KMeans(n_clusters=k, **kmeans_kwargs)\n",
    "    kmeans.fit(scaled_data)\n",
    "    sse = kmeans.inertia_ # menghitung nilai SSE\n",
    "    sse_list.append(sse) # menambahkan nilai SSE ke dalam variabel\n",
    "plt.style.use(\"fivethirtyeight\")\n",
    "plt.plot(range(1, 11), sse_list, label='SSE') # menambahkan label 'SSE'\n",
    "plt.xticks(range(1, 11))\n",
    "plt.xlabel(\"Cluster\")\n",
    "plt.ylabel(\"SSE\")\n",
    "# menentukan nilai k optimal dengan fungsi knee_locator\n",
    "kl = KneeLocator(range(1, 11), sse_list, curve=\"convex\", direction=\"decreasing\")\n",
    "# menambahkan titik siku pada plot dengan warna merah dan label 'Elbow'\n",
    "plt.vlines(kl.elbow, ymin=min(sse_list), ymax=max(sse_list), linestyles='dashed', color='red', label='Elbow')\n",
    "# menambahkan legenda pada plot\n",
    "plt.legend()\n",
    "plt.show()"
   ]
  },
  {
   "cell_type": "code",
   "execution_count": 6,
   "id": "15e43290",
   "metadata": {},
   "outputs": [
    {
     "data": {
      "text/html": [
       "<div>\n",
       "<style scoped>\n",
       "    .dataframe tbody tr th:only-of-type {\n",
       "        vertical-align: middle;\n",
       "    }\n",
       "\n",
       "    .dataframe tbody tr th {\n",
       "        vertical-align: top;\n",
       "    }\n",
       "\n",
       "    .dataframe thead th {\n",
       "        text-align: right;\n",
       "    }\n",
       "</style>\n",
       "<table border=\"1\" class=\"dataframe\">\n",
       "  <thead>\n",
       "    <tr style=\"text-align: right;\">\n",
       "      <th></th>\n",
       "      <th>Kecamatan Subdistrict</th>\n",
       "      <th>Tunggal</th>\n",
       "      <th>Ganda</th>\n",
       "      <th>Multi</th>\n",
       "      <th>cluster</th>\n",
       "    </tr>\n",
       "  </thead>\n",
       "  <tbody>\n",
       "    <tr>\n",
       "      <th>0</th>\n",
       "      <td>Mantrijeron</td>\n",
       "      <td>128</td>\n",
       "      <td>14</td>\n",
       "      <td>14</td>\n",
       "      <td>3</td>\n",
       "    </tr>\n",
       "    <tr>\n",
       "      <th>1</th>\n",
       "      <td>Kraton</td>\n",
       "      <td>61</td>\n",
       "      <td>7</td>\n",
       "      <td>7</td>\n",
       "      <td>2</td>\n",
       "    </tr>\n",
       "    <tr>\n",
       "      <th>2</th>\n",
       "      <td>Mergangsan</td>\n",
       "      <td>84</td>\n",
       "      <td>12</td>\n",
       "      <td>12</td>\n",
       "      <td>2</td>\n",
       "    </tr>\n",
       "    <tr>\n",
       "      <th>3</th>\n",
       "      <td>Umbulharjo</td>\n",
       "      <td>232</td>\n",
       "      <td>32</td>\n",
       "      <td>32</td>\n",
       "      <td>1</td>\n",
       "    </tr>\n",
       "    <tr>\n",
       "      <th>4</th>\n",
       "      <td>Kotagede</td>\n",
       "      <td>177</td>\n",
       "      <td>14</td>\n",
       "      <td>14</td>\n",
       "      <td>3</td>\n",
       "    </tr>\n",
       "    <tr>\n",
       "      <th>5</th>\n",
       "      <td>Gondokusuman</td>\n",
       "      <td>155</td>\n",
       "      <td>19</td>\n",
       "      <td>19</td>\n",
       "      <td>3</td>\n",
       "    </tr>\n",
       "    <tr>\n",
       "      <th>6</th>\n",
       "      <td>Danurejan</td>\n",
       "      <td>116</td>\n",
       "      <td>13</td>\n",
       "      <td>13</td>\n",
       "      <td>2</td>\n",
       "    </tr>\n",
       "    <tr>\n",
       "      <th>7</th>\n",
       "      <td>Pakualaman</td>\n",
       "      <td>87</td>\n",
       "      <td>9</td>\n",
       "      <td>9</td>\n",
       "      <td>2</td>\n",
       "    </tr>\n",
       "    <tr>\n",
       "      <th>8</th>\n",
       "      <td>Gondomanan</td>\n",
       "      <td>51</td>\n",
       "      <td>6</td>\n",
       "      <td>6</td>\n",
       "      <td>2</td>\n",
       "    </tr>\n",
       "    <tr>\n",
       "      <th>9</th>\n",
       "      <td>Ngampilan</td>\n",
       "      <td>91</td>\n",
       "      <td>12</td>\n",
       "      <td>12</td>\n",
       "      <td>2</td>\n",
       "    </tr>\n",
       "    <tr>\n",
       "      <th>10</th>\n",
       "      <td>Wirobrajan</td>\n",
       "      <td>246</td>\n",
       "      <td>32</td>\n",
       "      <td>32</td>\n",
       "      <td>1</td>\n",
       "    </tr>\n",
       "    <tr>\n",
       "      <th>11</th>\n",
       "      <td>Gedongtengen</td>\n",
       "      <td>108</td>\n",
       "      <td>6</td>\n",
       "      <td>6</td>\n",
       "      <td>2</td>\n",
       "    </tr>\n",
       "    <tr>\n",
       "      <th>12</th>\n",
       "      <td>Jetis</td>\n",
       "      <td>212</td>\n",
       "      <td>18</td>\n",
       "      <td>18</td>\n",
       "      <td>1</td>\n",
       "    </tr>\n",
       "    <tr>\n",
       "      <th>13</th>\n",
       "      <td>Tegalrejo</td>\n",
       "      <td>160</td>\n",
       "      <td>22</td>\n",
       "      <td>22</td>\n",
       "      <td>3</td>\n",
       "    </tr>\n",
       "  </tbody>\n",
       "</table>\n",
       "</div>"
      ],
      "text/plain": [
       "   Kecamatan Subdistrict  Tunggal  Ganda  Multi  cluster\n",
       "0            Mantrijeron      128     14     14        3\n",
       "1                 Kraton       61      7      7        2\n",
       "2             Mergangsan       84     12     12        2\n",
       "3             Umbulharjo      232     32     32        1\n",
       "4               Kotagede      177     14     14        3\n",
       "5           Gondokusuman      155     19     19        3\n",
       "6              Danurejan      116     13     13        2\n",
       "7             Pakualaman       87      9      9        2\n",
       "8             Gondomanan       51      6      6        2\n",
       "9              Ngampilan       91     12     12        2\n",
       "10            Wirobrajan      246     32     32        1\n",
       "11          Gedongtengen      108      6      6        2\n",
       "12                 Jetis      212     18     18        1\n",
       "13             Tegalrejo      160     22     22        3"
      ]
     },
     "execution_count": 6,
     "metadata": {},
     "output_type": "execute_result"
    }
   ],
   "source": [
    "# jumlah cluster\n",
    "k = kl.elbow\n",
    "\n",
    "# model building\n",
    "kmeans = KMeans(\n",
    "    init=\"random\",\n",
    "    n_clusters=k,\n",
    "    n_init='auto',\n",
    "    max_iter=300,\n",
    "    random_state=42)\n",
    "kmeans.fit(data)\n",
    "\n",
    "# nilai terkecil SSE\n",
    "kmeans.inertia_\n",
    "\n",
    "# lokasi final centroid\n",
    "kmeans.cluster_centers_\n",
    "\n",
    "# banyak iterasi\n",
    "kmeans.n_iter_\n",
    "\n",
    "# urutan label\n",
    "kmeans.labels_\n",
    "\n",
    "# Mengambil kolom yang ingin digunakan sebagai fitur untuk clustering\n",
    "features = data.iloc[:, [0, 1]].values\n",
    "\n",
    "# Membuat model K-Means dengan jumlah cluster k\n",
    "kmeans = KMeans(n_clusters=k, n_init='auto')\n",
    "kmeans.fit(features)\n",
    "\n",
    "# Mendapatkan label untuk setiap data\n",
    "labels = kmeans.labels_\n",
    "\n",
    "# Mendapatkan koordinat pusat untuk setiap cluster\n",
    "centroids = kmeans.cluster_centers_\n",
    "\n",
    "# Menambahkan 1 ke label cluster\n",
    "labels = kmeans.labels_ + 1\n",
    "\n",
    "# Menambahkan kolom cluster ke data frame asli\n",
    "df['cluster'] = labels\n",
    "\n",
    "# Menampilkan data frame dengan informasi cluster\n",
    "df"
   ]
  },
  {
   "cell_type": "code",
   "execution_count": 7,
   "id": "a4fa3e3e",
   "metadata": {},
   "outputs": [
    {
     "data": {
      "image/png": "[encoded data removed]",
      "text/plain": [
       "<Figure size 640x480 with 1 Axes>"
      ]
     },
     "metadata": {},
     "output_type": "display_data"
    }
   ],
   "source": [
    "# mendapatkan nilai unik pada labels\n",
    "unique_labels = np.unique(labels)\n",
    "# membuat scatter plot untuk setiap nilai unik dengan label yang sesuai\n",
    "for label in unique_labels:\n",
    "    # memilih data yang memiliki label yang sama\n",
    "    data = features[labels == label]\n",
    "    # membuat scatter plot dengan warna yang berbeda untuk setiap label\n",
    "    plt.scatter(data[:, 0], data[:, 1], label=f'Cluster {label}')\n",
    "# menambahkan scatter plot untuk centroid dengan label 'Centroid'\n",
    "plt.scatter(centroids[:, 0], centroids[:, 1], marker='x',\n",
    "            s=200, linewidths=3, color='r', label='Centroid')\n",
    "plt.title('Hasil Clustering Daerah Penyandang Disabilitas')\n",
    "plt.legend()\n",
    "plt.show()"
   ]
  },
  {
   "cell_type": "code",
   "execution_count": null,
   "id": "91e3c449",
   "metadata": {},
   "outputs": [],
   "source": []
  }
 ],
 "metadata": {
  "kernelspec": {
   "display_name": "Python 3 (ipykernel)",
   "language": "python",
   "name": "python3"
  },
  "language_info": {
   "codemirror_mode": {
    "name": "ipython",
    "version": 3
   },
   "file_extension": ".py",
   "mimetype": "text/x-python",
   "name": "python",
   "nbconvert_exporter": "python",
   "pygments_lexer": "ipython3",
   "version": "3.11.5"
  }
 },
 "nbformat": 4,
 "nbformat_minor": 5
}
